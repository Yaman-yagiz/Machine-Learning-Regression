{
 "cells": [
  {
   "cell_type": "code",
   "execution_count": 1,
   "id": "0951a6f4",
   "metadata": {},
   "outputs": [],
   "source": [
    "import pandas as pd\n",
    "import numpy as np"
   ]
  },
  {
   "cell_type": "code",
   "execution_count": 2,
   "id": "1d3fee47",
   "metadata": {},
   "outputs": [
    {
     "data": {
      "text/html": [
       "<div>\n",
       "<style scoped>\n",
       "    .dataframe tbody tr th:only-of-type {\n",
       "        vertical-align: middle;\n",
       "    }\n",
       "\n",
       "    .dataframe tbody tr th {\n",
       "        vertical-align: top;\n",
       "    }\n",
       "\n",
       "    .dataframe thead th {\n",
       "        text-align: right;\n",
       "    }\n",
       "</style>\n",
       "<table border=\"1\" class=\"dataframe\">\n",
       "  <thead>\n",
       "    <tr style=\"text-align: right;\">\n",
       "      <th></th>\n",
       "      <th>ulke</th>\n",
       "      <th>boy</th>\n",
       "      <th>kilo</th>\n",
       "      <th>yas</th>\n",
       "      <th>cinsiyet</th>\n",
       "    </tr>\n",
       "  </thead>\n",
       "  <tbody>\n",
       "    <tr>\n",
       "      <th>0</th>\n",
       "      <td>tr</td>\n",
       "      <td>130</td>\n",
       "      <td>30</td>\n",
       "      <td>10</td>\n",
       "      <td>e</td>\n",
       "    </tr>\n",
       "    <tr>\n",
       "      <th>1</th>\n",
       "      <td>tr</td>\n",
       "      <td>125</td>\n",
       "      <td>36</td>\n",
       "      <td>11</td>\n",
       "      <td>e</td>\n",
       "    </tr>\n",
       "    <tr>\n",
       "      <th>2</th>\n",
       "      <td>tr</td>\n",
       "      <td>135</td>\n",
       "      <td>34</td>\n",
       "      <td>10</td>\n",
       "      <td>k</td>\n",
       "    </tr>\n",
       "    <tr>\n",
       "      <th>3</th>\n",
       "      <td>tr</td>\n",
       "      <td>133</td>\n",
       "      <td>30</td>\n",
       "      <td>9</td>\n",
       "      <td>k</td>\n",
       "    </tr>\n",
       "    <tr>\n",
       "      <th>4</th>\n",
       "      <td>tr</td>\n",
       "      <td>129</td>\n",
       "      <td>38</td>\n",
       "      <td>12</td>\n",
       "      <td>e</td>\n",
       "    </tr>\n",
       "  </tbody>\n",
       "</table>\n",
       "</div>"
      ],
      "text/plain": [
       "  ulke  boy  kilo  yas cinsiyet\n",
       "0   tr  130    30   10        e\n",
       "1   tr  125    36   11        e\n",
       "2   tr  135    34   10        k\n",
       "3   tr  133    30    9        k\n",
       "4   tr  129    38   12        e"
      ]
     },
     "execution_count": 2,
     "metadata": {},
     "output_type": "execute_result"
    }
   ],
   "source": [
    "data=pd.read_csv(\"veriler.csv\")\n",
    "data.head()"
   ]
  },
  {
   "cell_type": "code",
   "execution_count": 3,
   "id": "0d38af56",
   "metadata": {},
   "outputs": [],
   "source": [
    "from sklearn import preprocessing\n",
    "le=preprocessing.LabelEncoder()"
   ]
  },
  {
   "cell_type": "code",
   "execution_count": 4,
   "id": "fb7a6da6",
   "metadata": {},
   "outputs": [
    {
     "name": "stderr",
     "output_type": "stream",
     "text": [
      "C:\\Users\\Crash\\anaconda3\\lib\\site-packages\\sklearn\\utils\\validation.py:63: DataConversionWarning: A column-vector y was passed when a 1d array was expected. Please change the shape of y to (n_samples, ), for example using ravel().\n",
      "  return f(*args, **kwargs)\n"
     ]
    }
   ],
   "source": [
    "cinsiyet=data.iloc[:,-1:].values\n",
    "cinsiyet[:,0]=le.fit_transform(data.iloc[:,-1:])\n",
    "df_cinsiyet=pd.DataFrame(cinsiyet,columns=['cinsiyet'])\n",
    "\n",
    "ulke=data.iloc[:,0:1].values\n",
    "ohe=preprocessing.OneHotEncoder()\n",
    "ulke=ohe.fit_transform(ulke).toarray()\n",
    "df_ulke=pd.DataFrame(ulke,columns=['fr','tr','us'])\n",
    "\n",
    "boy_kilo_yas=data.iloc[:,1:4].values\n",
    "df=pd.DataFrame(boy_kilo_yas,columns=['boy','kilo','yas'])"
   ]
  },
  {
   "cell_type": "code",
   "execution_count": 5,
   "id": "e03775a3",
   "metadata": {},
   "outputs": [],
   "source": [
    "frames=[df_ulke,df,df_cinsiyet]\n",
    "result = pd.concat(frames,axis=1)"
   ]
  },
  {
   "cell_type": "code",
   "execution_count": 6,
   "id": "354ea2f5",
   "metadata": {},
   "outputs": [
    {
     "data": {
      "text/html": [
       "<div>\n",
       "<style scoped>\n",
       "    .dataframe tbody tr th:only-of-type {\n",
       "        vertical-align: middle;\n",
       "    }\n",
       "\n",
       "    .dataframe tbody tr th {\n",
       "        vertical-align: top;\n",
       "    }\n",
       "\n",
       "    .dataframe thead th {\n",
       "        text-align: right;\n",
       "    }\n",
       "</style>\n",
       "<table border=\"1\" class=\"dataframe\">\n",
       "  <thead>\n",
       "    <tr style=\"text-align: right;\">\n",
       "      <th></th>\n",
       "      <th>fr</th>\n",
       "      <th>tr</th>\n",
       "      <th>us</th>\n",
       "      <th>boy</th>\n",
       "      <th>kilo</th>\n",
       "      <th>yas</th>\n",
       "      <th>cinsiyet</th>\n",
       "    </tr>\n",
       "  </thead>\n",
       "  <tbody>\n",
       "    <tr>\n",
       "      <th>0</th>\n",
       "      <td>0.0</td>\n",
       "      <td>1.0</td>\n",
       "      <td>0.0</td>\n",
       "      <td>130</td>\n",
       "      <td>30</td>\n",
       "      <td>10</td>\n",
       "      <td>0</td>\n",
       "    </tr>\n",
       "    <tr>\n",
       "      <th>1</th>\n",
       "      <td>0.0</td>\n",
       "      <td>1.0</td>\n",
       "      <td>0.0</td>\n",
       "      <td>125</td>\n",
       "      <td>36</td>\n",
       "      <td>11</td>\n",
       "      <td>0</td>\n",
       "    </tr>\n",
       "    <tr>\n",
       "      <th>2</th>\n",
       "      <td>0.0</td>\n",
       "      <td>1.0</td>\n",
       "      <td>0.0</td>\n",
       "      <td>135</td>\n",
       "      <td>34</td>\n",
       "      <td>10</td>\n",
       "      <td>1</td>\n",
       "    </tr>\n",
       "    <tr>\n",
       "      <th>3</th>\n",
       "      <td>0.0</td>\n",
       "      <td>1.0</td>\n",
       "      <td>0.0</td>\n",
       "      <td>133</td>\n",
       "      <td>30</td>\n",
       "      <td>9</td>\n",
       "      <td>1</td>\n",
       "    </tr>\n",
       "    <tr>\n",
       "      <th>4</th>\n",
       "      <td>0.0</td>\n",
       "      <td>1.0</td>\n",
       "      <td>0.0</td>\n",
       "      <td>129</td>\n",
       "      <td>38</td>\n",
       "      <td>12</td>\n",
       "      <td>0</td>\n",
       "    </tr>\n",
       "  </tbody>\n",
       "</table>\n",
       "</div>"
      ],
      "text/plain": [
       "    fr   tr   us  boy  kilo  yas cinsiyet\n",
       "0  0.0  1.0  0.0  130    30   10        0\n",
       "1  0.0  1.0  0.0  125    36   11        0\n",
       "2  0.0  1.0  0.0  135    34   10        1\n",
       "3  0.0  1.0  0.0  133    30    9        1\n",
       "4  0.0  1.0  0.0  129    38   12        0"
      ]
     },
     "execution_count": 6,
     "metadata": {},
     "output_type": "execute_result"
    }
   ],
   "source": [
    "result.head()"
   ]
  },
  {
   "cell_type": "code",
   "execution_count": 7,
   "id": "ad73a139",
   "metadata": {},
   "outputs": [],
   "source": [
    "from sklearn.model_selection import train_test_split\n",
    "X=result.drop(columns=['cinsiyet'],axis=1)\n",
    "y=result[['cinsiyet']]\n",
    "x_train,x_test,y_train,y_test=train_test_split(X,y,test_size=0.33,random_state=0)"
   ]
  },
  {
   "cell_type": "code",
   "execution_count": 8,
   "id": "c8e0e873",
   "metadata": {},
   "outputs": [],
   "source": [
    "#cinsiyet tahmini\n",
    "from sklearn.linear_model import LinearRegression\n",
    "lr=LinearRegression()\n",
    "lr.fit(x_train,y_train)\n",
    "y_pred=lr.predict(x_test)"
   ]
  },
  {
   "cell_type": "code",
   "execution_count": 23,
   "id": "d1e4ad99",
   "metadata": {},
   "outputs": [],
   "source": [
    "#boy tahmini\n",
    "boy=result.iloc[:,3:4].values\n",
    "boy_haric=result.drop(columns=['boy'],axis=1)"
   ]
  },
  {
   "cell_type": "code",
   "execution_count": 24,
   "id": "b2311bb2",
   "metadata": {},
   "outputs": [],
   "source": [
    "x_train,x_test,y_train,y_test=train_test_split(boy_haric,boy,test_size=0.33,random_state=0)"
   ]
  },
  {
   "cell_type": "code",
   "execution_count": 25,
   "id": "1a9764bd",
   "metadata": {},
   "outputs": [],
   "source": [
    "lr2=LinearRegression()\n",
    "lr2.fit(x_train,y_train)\n",
    "y_pred2=lr.predict(x_test)"
   ]
  },
  {
   "cell_type": "code",
   "execution_count": 26,
   "id": "e4d815f4",
   "metadata": {},
   "outputs": [],
   "source": [
    "# backward elimination - geri eleme\n",
    "# bağımsız değişkenlerin, bağımlı değiken üzerindeki etkisine ölçülecek"
   ]
  },
  {
   "cell_type": "code",
   "execution_count": 27,
   "id": "2be9ea37",
   "metadata": {},
   "outputs": [],
   "source": [
    "import statsmodels.api as sm"
   ]
  },
  {
   "cell_type": "code",
   "execution_count": 28,
   "id": "b47a6175",
   "metadata": {},
   "outputs": [],
   "source": [
    "x=np.append(arr=np.ones((22,1)).astype(int),values=boy_haric,axis=1)\n",
    "x_list=boy_haric.iloc[:,[0,1,2,3,4,5]].values\n",
    "x_list=np.array(x_list,dtype=float)"
   ]
  },
  {
   "cell_type": "code",
   "execution_count": 29,
   "id": "a87a8f85",
   "metadata": {},
   "outputs": [],
   "source": [
    "model=sm.OLS(boy,x_list).fit()"
   ]
  },
  {
   "cell_type": "code",
   "execution_count": 30,
   "id": "8a94395b",
   "metadata": {},
   "outputs": [
    {
     "data": {
      "text/html": [
       "<table class=\"simpletable\">\n",
       "<caption>OLS Regression Results</caption>\n",
       "<tr>\n",
       "  <th>Dep. Variable:</th>           <td>boy</td>       <th>  R-squared:         </th> <td>   0.885</td>\n",
       "</tr>\n",
       "<tr>\n",
       "  <th>Model:</th>                   <td>OLS</td>       <th>  Adj. R-squared:    </th> <td>   0.849</td>\n",
       "</tr>\n",
       "<tr>\n",
       "  <th>Method:</th>             <td>Least Squares</td>  <th>  F-statistic:       </th> <td>   24.69</td>\n",
       "</tr>\n",
       "<tr>\n",
       "  <th>Date:</th>             <td>Sun, 01 Aug 2021</td> <th>  Prob (F-statistic):</th> <td>5.41e-07</td>\n",
       "</tr>\n",
       "<tr>\n",
       "  <th>Time:</th>                 <td>16:04:02</td>     <th>  Log-Likelihood:    </th> <td> -73.950</td>\n",
       "</tr>\n",
       "<tr>\n",
       "  <th>No. Observations:</th>      <td>    22</td>      <th>  AIC:               </th> <td>   159.9</td>\n",
       "</tr>\n",
       "<tr>\n",
       "  <th>Df Residuals:</th>          <td>    16</td>      <th>  BIC:               </th> <td>   166.4</td>\n",
       "</tr>\n",
       "<tr>\n",
       "  <th>Df Model:</th>              <td>     5</td>      <th>                     </th>     <td> </td>   \n",
       "</tr>\n",
       "<tr>\n",
       "  <th>Covariance Type:</th>      <td>nonrobust</td>    <th>                     </th>     <td> </td>   \n",
       "</tr>\n",
       "</table>\n",
       "<table class=\"simpletable\">\n",
       "<tr>\n",
       "   <td></td>     <th>coef</th>     <th>std err</th>      <th>t</th>      <th>P>|t|</th>  <th>[0.025</th>    <th>0.975]</th>  \n",
       "</tr>\n",
       "<tr>\n",
       "  <th>x1</th> <td>  103.4708</td> <td>    9.878</td> <td>   10.475</td> <td> 0.000</td> <td>   82.530</td> <td>  124.412</td>\n",
       "</tr>\n",
       "<tr>\n",
       "  <th>x2</th> <td>   97.7050</td> <td>    7.463</td> <td>   13.091</td> <td> 0.000</td> <td>   81.883</td> <td>  113.527</td>\n",
       "</tr>\n",
       "<tr>\n",
       "  <th>x3</th> <td>   93.8734</td> <td>   11.312</td> <td>    8.298</td> <td> 0.000</td> <td>   69.892</td> <td>  117.855</td>\n",
       "</tr>\n",
       "<tr>\n",
       "  <th>x4</th> <td>    0.9211</td> <td>    0.119</td> <td>    7.737</td> <td> 0.000</td> <td>    0.669</td> <td>    1.174</td>\n",
       "</tr>\n",
       "<tr>\n",
       "  <th>x5</th> <td>    0.0814</td> <td>    0.221</td> <td>    0.369</td> <td> 0.717</td> <td>   -0.386</td> <td>    0.549</td>\n",
       "</tr>\n",
       "<tr>\n",
       "  <th>x6</th> <td>   10.5980</td> <td>    5.052</td> <td>    2.098</td> <td> 0.052</td> <td>   -0.112</td> <td>   21.308</td>\n",
       "</tr>\n",
       "</table>\n",
       "<table class=\"simpletable\">\n",
       "<tr>\n",
       "  <th>Omnibus:</th>       <td> 1.031</td> <th>  Durbin-Watson:     </th> <td>   2.759</td>\n",
       "</tr>\n",
       "<tr>\n",
       "  <th>Prob(Omnibus):</th> <td> 0.597</td> <th>  Jarque-Bera (JB):  </th> <td>   0.624</td>\n",
       "</tr>\n",
       "<tr>\n",
       "  <th>Skew:</th>          <td> 0.407</td> <th>  Prob(JB):          </th> <td>   0.732</td>\n",
       "</tr>\n",
       "<tr>\n",
       "  <th>Kurtosis:</th>      <td> 2.863</td> <th>  Cond. No.          </th> <td>    678.</td>\n",
       "</tr>\n",
       "</table><br/><br/>Notes:<br/>[1] Standard Errors assume that the covariance matrix of the errors is correctly specified."
      ],
      "text/plain": [
       "<class 'statsmodels.iolib.summary.Summary'>\n",
       "\"\"\"\n",
       "                            OLS Regression Results                            \n",
       "==============================================================================\n",
       "Dep. Variable:                    boy   R-squared:                       0.885\n",
       "Model:                            OLS   Adj. R-squared:                  0.849\n",
       "Method:                 Least Squares   F-statistic:                     24.69\n",
       "Date:                Sun, 01 Aug 2021   Prob (F-statistic):           5.41e-07\n",
       "Time:                        16:04:02   Log-Likelihood:                -73.950\n",
       "No. Observations:                  22   AIC:                             159.9\n",
       "Df Residuals:                      16   BIC:                             166.4\n",
       "Df Model:                           5                                         \n",
       "Covariance Type:            nonrobust                                         \n",
       "==============================================================================\n",
       "                 coef    std err          t      P>|t|      [0.025      0.975]\n",
       "------------------------------------------------------------------------------\n",
       "x1           103.4708      9.878     10.475      0.000      82.530     124.412\n",
       "x2            97.7050      7.463     13.091      0.000      81.883     113.527\n",
       "x3            93.8734     11.312      8.298      0.000      69.892     117.855\n",
       "x4             0.9211      0.119      7.737      0.000       0.669       1.174\n",
       "x5             0.0814      0.221      0.369      0.717      -0.386       0.549\n",
       "x6            10.5980      5.052      2.098      0.052      -0.112      21.308\n",
       "==============================================================================\n",
       "Omnibus:                        1.031   Durbin-Watson:                   2.759\n",
       "Prob(Omnibus):                  0.597   Jarque-Bera (JB):                0.624\n",
       "Skew:                           0.407   Prob(JB):                        0.732\n",
       "Kurtosis:                       2.863   Cond. No.                         678.\n",
       "==============================================================================\n",
       "\n",
       "Notes:\n",
       "[1] Standard Errors assume that the covariance matrix of the errors is correctly specified.\n",
       "\"\"\""
      ]
     },
     "execution_count": 30,
     "metadata": {},
     "output_type": "execute_result"
    }
   ],
   "source": [
    "model.summary() # en yüksek p değerine sahip x5 feature'ı elenir."
   ]
  },
  {
   "cell_type": "code",
   "execution_count": 17,
   "id": "18669917",
   "metadata": {
    "collapsed": true
   },
   "outputs": [
    {
     "data": {
      "text/html": [
       "<table class=\"simpletable\">\n",
       "<caption>OLS Regression Results</caption>\n",
       "<tr>\n",
       "  <th>Dep. Variable:</th>            <td>y</td>        <th>  R-squared:         </th> <td>   0.884</td>\n",
       "</tr>\n",
       "<tr>\n",
       "  <th>Model:</th>                   <td>OLS</td>       <th>  Adj. R-squared:    </th> <td>   0.857</td>\n",
       "</tr>\n",
       "<tr>\n",
       "  <th>Method:</th>             <td>Least Squares</td>  <th>  F-statistic:       </th> <td>   32.47</td>\n",
       "</tr>\n",
       "<tr>\n",
       "  <th>Date:</th>             <td>Sun, 01 Aug 2021</td> <th>  Prob (F-statistic):</th> <td>9.32e-08</td>\n",
       "</tr>\n",
       "<tr>\n",
       "  <th>Time:</th>                 <td>15:44:47</td>     <th>  Log-Likelihood:    </th> <td> -74.043</td>\n",
       "</tr>\n",
       "<tr>\n",
       "  <th>No. Observations:</th>      <td>    22</td>      <th>  AIC:               </th> <td>   158.1</td>\n",
       "</tr>\n",
       "<tr>\n",
       "  <th>Df Residuals:</th>          <td>    17</td>      <th>  BIC:               </th> <td>   163.5</td>\n",
       "</tr>\n",
       "<tr>\n",
       "  <th>Df Model:</th>              <td>     4</td>      <th>                     </th>     <td> </td>   \n",
       "</tr>\n",
       "<tr>\n",
       "  <th>Covariance Type:</th>      <td>nonrobust</td>    <th>                     </th>     <td> </td>   \n",
       "</tr>\n",
       "</table>\n",
       "<table class=\"simpletable\">\n",
       "<tr>\n",
       "   <td></td>     <th>coef</th>     <th>std err</th>      <th>t</th>      <th>P>|t|</th>  <th>[0.025</th>    <th>0.975]</th>  \n",
       "</tr>\n",
       "<tr>\n",
       "  <th>x1</th> <td>  104.5490</td> <td>    9.193</td> <td>   11.373</td> <td> 0.000</td> <td>   85.153</td> <td>  123.944</td>\n",
       "</tr>\n",
       "<tr>\n",
       "  <th>x2</th> <td>   97.9693</td> <td>    7.238</td> <td>   13.536</td> <td> 0.000</td> <td>   82.699</td> <td>  113.240</td>\n",
       "</tr>\n",
       "<tr>\n",
       "  <th>x3</th> <td>   95.4352</td> <td>   10.220</td> <td>    9.338</td> <td> 0.000</td> <td>   73.873</td> <td>  116.998</td>\n",
       "</tr>\n",
       "<tr>\n",
       "  <th>x4</th> <td>    0.9405</td> <td>    0.104</td> <td>    9.029</td> <td> 0.000</td> <td>    0.721</td> <td>    1.160</td>\n",
       "</tr>\n",
       "<tr>\n",
       "  <th>x5</th> <td>   11.1093</td> <td>    4.733</td> <td>    2.347</td> <td> 0.031</td> <td>    1.123</td> <td>   21.096</td>\n",
       "</tr>\n",
       "</table>\n",
       "<table class=\"simpletable\">\n",
       "<tr>\n",
       "  <th>Omnibus:</th>       <td> 0.871</td> <th>  Durbin-Watson:     </th> <td>   2.719</td>\n",
       "</tr>\n",
       "<tr>\n",
       "  <th>Prob(Omnibus):</th> <td> 0.647</td> <th>  Jarque-Bera (JB):  </th> <td>   0.459</td>\n",
       "</tr>\n",
       "<tr>\n",
       "  <th>Skew:</th>          <td> 0.351</td> <th>  Prob(JB):          </th> <td>   0.795</td>\n",
       "</tr>\n",
       "<tr>\n",
       "  <th>Kurtosis:</th>      <td> 2.910</td> <th>  Cond. No.          </th> <td>    596.</td>\n",
       "</tr>\n",
       "</table><br/><br/>Notes:<br/>[1] Standard Errors assume that the covariance matrix of the errors is correctly specified."
      ],
      "text/plain": [
       "<class 'statsmodels.iolib.summary.Summary'>\n",
       "\"\"\"\n",
       "                            OLS Regression Results                            \n",
       "==============================================================================\n",
       "Dep. Variable:                      y   R-squared:                       0.884\n",
       "Model:                            OLS   Adj. R-squared:                  0.857\n",
       "Method:                 Least Squares   F-statistic:                     32.47\n",
       "Date:                Sun, 01 Aug 2021   Prob (F-statistic):           9.32e-08\n",
       "Time:                        15:44:47   Log-Likelihood:                -74.043\n",
       "No. Observations:                  22   AIC:                             158.1\n",
       "Df Residuals:                      17   BIC:                             163.5\n",
       "Df Model:                           4                                         \n",
       "Covariance Type:            nonrobust                                         \n",
       "==============================================================================\n",
       "                 coef    std err          t      P>|t|      [0.025      0.975]\n",
       "------------------------------------------------------------------------------\n",
       "x1           104.5490      9.193     11.373      0.000      85.153     123.944\n",
       "x2            97.9693      7.238     13.536      0.000      82.699     113.240\n",
       "x3            95.4352     10.220      9.338      0.000      73.873     116.998\n",
       "x4             0.9405      0.104      9.029      0.000       0.721       1.160\n",
       "x5            11.1093      4.733      2.347      0.031       1.123      21.096\n",
       "==============================================================================\n",
       "Omnibus:                        0.871   Durbin-Watson:                   2.719\n",
       "Prob(Omnibus):                  0.647   Jarque-Bera (JB):                0.459\n",
       "Skew:                           0.351   Prob(JB):                        0.795\n",
       "Kurtosis:                       2.910   Cond. No.                         596.\n",
       "==============================================================================\n",
       "\n",
       "Notes:\n",
       "[1] Standard Errors assume that the covariance matrix of the errors is correctly specified.\n",
       "\"\"\""
      ]
     },
     "execution_count": 17,
     "metadata": {},
     "output_type": "execute_result"
    }
   ],
   "source": [
    "x_list=boy_haric.iloc[:,[0,1,2,3,5]].values\n",
    "x_list=np.array(x_list,dtype=float)\n",
    "model=sm.OLS(boy,x_list).fit()\n",
    "model.summary() # x5, 0.05 den küçük olduğu için sorun değildir."
   ]
  },
  {
   "cell_type": "code",
   "execution_count": 18,
   "id": "771bdc6b",
   "metadata": {},
   "outputs": [],
   "source": [
    "# elenen özellik ile model oluşturma (yas)\n",
    "yeni_data=boy_haric.drop(columns=['yas'],axis=1)\n",
    "x_train,x_test,y_train,y_test=train_test_split(yeni_data,boy,test_size=0.33,random_state=0)"
   ]
  },
  {
   "cell_type": "code",
   "execution_count": 31,
   "id": "2f4db1b0",
   "metadata": {},
   "outputs": [],
   "source": [
    "lr3=LinearRegression()\n",
    "lr3.fit(x_train,y_train)\n",
    "y_pred3=lr3.predict(x_test)"
   ]
  }
 ],
 "metadata": {
  "kernelspec": {
   "display_name": "Python 3",
   "language": "python",
   "name": "python3"
  },
  "language_info": {
   "codemirror_mode": {
    "name": "ipython",
    "version": 3
   },
   "file_extension": ".py",
   "mimetype": "text/x-python",
   "name": "python",
   "nbconvert_exporter": "python",
   "pygments_lexer": "ipython3",
   "version": "3.8.8"
  }
 },
 "nbformat": 4,
 "nbformat_minor": 5
}
