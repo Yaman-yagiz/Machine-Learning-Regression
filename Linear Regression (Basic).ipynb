{
 "cells": [
  {
   "cell_type": "code",
   "execution_count": 1,
   "id": "4cec57ec",
   "metadata": {},
   "outputs": [],
   "source": [
    "import pandas as pd \n",
    "import numpy as np\n",
    "import matplotlib.pyplot as plt"
   ]
  },
  {
   "cell_type": "code",
   "execution_count": 2,
   "id": "cfaa9107",
   "metadata": {},
   "outputs": [
    {
     "data": {
      "text/html": [
       "<div>\n",
       "<style scoped>\n",
       "    .dataframe tbody tr th:only-of-type {\n",
       "        vertical-align: middle;\n",
       "    }\n",
       "\n",
       "    .dataframe tbody tr th {\n",
       "        vertical-align: top;\n",
       "    }\n",
       "\n",
       "    .dataframe thead th {\n",
       "        text-align: right;\n",
       "    }\n",
       "</style>\n",
       "<table border=\"1\" class=\"dataframe\">\n",
       "  <thead>\n",
       "    <tr style=\"text-align: right;\">\n",
       "      <th></th>\n",
       "      <th>Aylar</th>\n",
       "      <th>Satislar</th>\n",
       "    </tr>\n",
       "  </thead>\n",
       "  <tbody>\n",
       "    <tr>\n",
       "      <th>0</th>\n",
       "      <td>8</td>\n",
       "      <td>19671.5</td>\n",
       "    </tr>\n",
       "    <tr>\n",
       "      <th>1</th>\n",
       "      <td>10</td>\n",
       "      <td>23102.5</td>\n",
       "    </tr>\n",
       "    <tr>\n",
       "      <th>2</th>\n",
       "      <td>11</td>\n",
       "      <td>18865.5</td>\n",
       "    </tr>\n",
       "    <tr>\n",
       "      <th>3</th>\n",
       "      <td>13</td>\n",
       "      <td>21762.5</td>\n",
       "    </tr>\n",
       "    <tr>\n",
       "      <th>4</th>\n",
       "      <td>14</td>\n",
       "      <td>19945.5</td>\n",
       "    </tr>\n",
       "  </tbody>\n",
       "</table>\n",
       "</div>"
      ],
      "text/plain": [
       "   Aylar  Satislar\n",
       "0      8   19671.5\n",
       "1     10   23102.5\n",
       "2     11   18865.5\n",
       "3     13   21762.5\n",
       "4     14   19945.5"
      ]
     },
     "execution_count": 2,
     "metadata": {},
     "output_type": "execute_result"
    }
   ],
   "source": [
    "df=pd.read_csv(\"satislar.csv\")\n",
    "df.head()"
   ]
  },
  {
   "cell_type": "code",
   "execution_count": 3,
   "id": "7bb5fee0",
   "metadata": {},
   "outputs": [],
   "source": [
    "aylar=df[[\"Aylar\"]]\n",
    "satislar=df[[\"Satislar\"]]"
   ]
  },
  {
   "cell_type": "code",
   "execution_count": 4,
   "id": "1db8bb90",
   "metadata": {},
   "outputs": [],
   "source": [
    "from sklearn.model_selection import train_test_split\n",
    "x_train,x_test,y_train,y_test=train_test_split(aylar,satislar,test_size=0.33,random_state=0)"
   ]
  },
  {
   "cell_type": "code",
   "execution_count": 5,
   "id": "3c78a85c",
   "metadata": {},
   "outputs": [],
   "source": [
    "from sklearn.preprocessing import StandardScaler\n",
    "sc=StandardScaler()"
   ]
  },
  {
   "cell_type": "code",
   "execution_count": 9,
   "id": "c85c4017",
   "metadata": {},
   "outputs": [
    {
     "data": {
      "text/plain": [
       "((20, 1), (10, 1), (20, 1), (10, 1))"
      ]
     },
     "execution_count": 9,
     "metadata": {},
     "output_type": "execute_result"
    }
   ],
   "source": [
    "X_train=sc.fit_transform(x_train)\n",
    "X_test=sc.fit_transform(x_test)\n",
    "Y_train=sc.fit_transform(y_train)\n",
    "Y_test=sc.fit_transform(y_test)\n",
    "X_train.shape,X_test.shape,Y_train.shape,Y_test.shape"
   ]
  },
  {
   "cell_type": "markdown",
   "id": "be9bfd96",
   "metadata": {},
   "source": [
    "### Linear Regression (basic)"
   ]
  },
  {
   "cell_type": "code",
   "execution_count": 10,
   "id": "f6e8e2a3",
   "metadata": {},
   "outputs": [],
   "source": [
    "from sklearn.linear_model import LinearRegression"
   ]
  },
  {
   "cell_type": "code",
   "execution_count": 11,
   "id": "720e64af",
   "metadata": {},
   "outputs": [
    {
     "data": {
      "text/plain": [
       "LinearRegression()"
      ]
     },
     "execution_count": 11,
     "metadata": {},
     "output_type": "execute_result"
    }
   ],
   "source": [
    "lr=LinearRegression()\n",
    "lr.fit(X_train,Y_train)"
   ]
  },
  {
   "cell_type": "code",
   "execution_count": 12,
   "id": "1aa60eda",
   "metadata": {},
   "outputs": [],
   "source": [
    "# scale sonuçlar\n",
    "tahmin=lr.predict(X_test)"
   ]
  },
  {
   "cell_type": "code",
   "execution_count": 13,
   "id": "dd05415c",
   "metadata": {},
   "outputs": [
    {
     "data": {
      "text/plain": [
       "(array([[-1.33324088],\n",
       "        [ 1.05398097],\n",
       "        [-0.65761206],\n",
       "        [-0.70265398],\n",
       "        [ 0.82877136],\n",
       "        [ 0.60356175],\n",
       "        [ 0.82877136],\n",
       "        [-0.70265398],\n",
       "        [-0.29727668],\n",
       "        [ 0.37835214]]),\n",
       " array([[-1.66597621],\n",
       "        [ 1.25819492],\n",
       "        [-0.99762385],\n",
       "        [-0.7856508 ],\n",
       "        [ 1.0709181 ],\n",
       "        [ 0.81055426],\n",
       "        [ 0.92122098],\n",
       "        [-1.04207705],\n",
       "        [-0.09933754],\n",
       "        [ 0.52977719]]))"
      ]
     },
     "execution_count": 13,
     "metadata": {},
     "output_type": "execute_result"
    }
   ],
   "source": [
    "tahmin,Y_test"
   ]
  },
  {
   "cell_type": "code",
   "execution_count": 14,
   "id": "51e58c81",
   "metadata": {},
   "outputs": [],
   "source": [
    "# scale olmayan sonuçlar\n",
    "lr=LinearRegression()\n",
    "lr.fit(x_train,y_train)\n",
    "tahmin=lr.predict(x_test)"
   ]
  },
  {
   "cell_type": "code",
   "execution_count": 15,
   "id": "06ba03a1",
   "metadata": {},
   "outputs": [
    {
     "data": {
      "text/plain": [
       "(array([[20126.21865404],\n",
       "        [57740.29412655],\n",
       "        [30771.7117123 ],\n",
       "        [30062.01217508],\n",
       "        [54191.79644047],\n",
       "        [50643.29875438],\n",
       "        [54191.79644047],\n",
       "        [30062.01217508],\n",
       "        [36449.30801003],\n",
       "        [47094.80106829]]),\n",
       "     Satislar\n",
       " 2    18865.5\n",
       " 28   61195.5\n",
       " 13   28540.5\n",
       " 10   31609.0\n",
       " 26   58484.5\n",
       " 24   54715.5\n",
       " 27   56317.5\n",
       " 11   27897.0\n",
       " 17   41544.0\n",
       " 22   50651.0)"
      ]
     },
     "execution_count": 15,
     "metadata": {},
     "output_type": "execute_result"
    }
   ],
   "source": [
    "tahmin,y_test"
   ]
  },
  {
   "cell_type": "code",
   "execution_count": 23,
   "id": "c7223b63",
   "metadata": {},
   "outputs": [
    {
     "data": {
      "text/plain": [
       "[<matplotlib.lines.Line2D at 0x2eb8804f370>]"
      ]
     },
     "execution_count": 23,
     "metadata": {},
     "output_type": "execute_result"
    },
    {
     "data": {
      "image/png": "[encoded data removed]",
      "text/plain": [
       "<Figure size 432x288 with 1 Axes>"
      ]
     },
     "metadata": {
      "needs_background": "light"
     },
     "output_type": "display_data"
    }
   ],
   "source": [
    "x_train=x_train.sort_index()\n",
    "y_train=y_train.sort_index()\n",
    "plt.plot(x_train,y_train)\n",
    "plt.plot(x_test,lr.predict(x_test))"
   ]
  },
  {
   "cell_type": "code",
   "execution_count": null,
   "id": "fb4f1911",
   "metadata": {},
   "outputs": [],
   "source": []
  }
 ],
 "metadata": {
  "kernelspec": {
   "display_name": "Python 3",
   "language": "python",
   "name": "python3"
  },
  "language_info": {
   "codemirror_mode": {
    "name": "ipython",
    "version": 3
   },
   "file_extension": ".py",
   "mimetype": "text/x-python",
   "name": "python",
   "nbconvert_exporter": "python",
   "pygments_lexer": "ipython3",
   "version": "3.8.8"
  }
 },
 "nbformat": 4,
 "nbformat_minor": 5
}
