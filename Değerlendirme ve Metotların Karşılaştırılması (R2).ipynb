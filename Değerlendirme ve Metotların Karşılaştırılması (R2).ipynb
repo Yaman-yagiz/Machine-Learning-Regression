{
 "cells": [
  {
   "cell_type": "code",
   "execution_count": 1,
   "id": "20a4d1bf",
   "metadata": {},
   "outputs": [],
   "source": [
    "import pandas as pd\n",
    "import numpy as np\n",
    "import matplotlib.pyplot as plt"
   ]
  },
  {
   "cell_type": "code",
   "execution_count": 2,
   "id": "e4123039",
   "metadata": {},
   "outputs": [],
   "source": [
    "data=pd.read_csv(\"maaslar.csv\")\n",
    "# dataframe\n",
    "x=data.iloc[:,1:2]\n",
    "y=data.iloc[:,2:]\n",
    "# numpy array\n",
    "X=x.values\n",
    "Y=y.values"
   ]
  },
  {
   "cell_type": "code",
   "execution_count": 3,
   "id": "d9dbc2a1",
   "metadata": {},
   "outputs": [
    {
     "data": {
      "text/plain": [
       "RandomForestRegressor(n_estimators=10, random_state=0)"
      ]
     },
     "execution_count": 3,
     "metadata": {},
     "output_type": "execute_result"
    }
   ],
   "source": [
    "# Random Forest Regression\n",
    "from sklearn.ensemble import RandomForestRegressor\n",
    "rfr=RandomForestRegressor(random_state=0,n_estimators=10) # 'n_estimators' kaç tane decision tree çizileceğini belirler.\n",
    "rfr.fit(X,Y.ravel())"
   ]
  },
  {
   "cell_type": "code",
   "execution_count": 4,
   "id": "a0d5bb68",
   "metadata": {},
   "outputs": [
    {
     "data": {
      "text/plain": [
       "DecisionTreeRegressor(random_state=0)"
      ]
     },
     "execution_count": 4,
     "metadata": {},
     "output_type": "execute_result"
    }
   ],
   "source": [
    "# Decision Tree Regression\n",
    "from sklearn.tree import DecisionTreeRegressor\n",
    "dtr=DecisionTreeRegressor(random_state=0)\n",
    "dtr.fit(X,Y)"
   ]
  },
  {
   "cell_type": "code",
   "execution_count": 5,
   "id": "7fd17bdf",
   "metadata": {},
   "outputs": [
    {
     "data": {
      "text/plain": [
       "LinearRegression()"
      ]
     },
     "execution_count": 5,
     "metadata": {},
     "output_type": "execute_result"
    }
   ],
   "source": [
    "# linear regression\n",
    "from sklearn.linear_model import LinearRegression\n",
    "lr=LinearRegression()\n",
    "lr.fit(X,Y)"
   ]
  },
  {
   "cell_type": "code",
   "execution_count": 6,
   "id": "7153bffa",
   "metadata": {},
   "outputs": [
    {
     "data": {
      "text/plain": [
       "LinearRegression()"
      ]
     },
     "execution_count": 6,
     "metadata": {},
     "output_type": "execute_result"
    }
   ],
   "source": [
    "# 4.dereceden Polynomial Regression \n",
    "from sklearn.preprocessing import PolynomialFeatures\n",
    "pr2=PolynomialFeatures(degree=4) # veri dağılımına göre derece belirlenebilir.(derece değiştirilip sonuca etkisine bakılabilir.)\n",
    "x_pr2=pr2.fit_transform(X)\n",
    "lr3=LinearRegression()\n",
    "lr3.fit(x_pr2,y)"
   ]
  },
  {
   "cell_type": "code",
   "execution_count": 7,
   "id": "65009f36",
   "metadata": {},
   "outputs": [
    {
     "data": {
      "text/plain": [
       "SVR()"
      ]
     },
     "execution_count": 7,
     "metadata": {},
     "output_type": "execute_result"
    }
   ],
   "source": [
    "# SVR-rbf\n",
    "from sklearn.preprocessing import StandardScaler\n",
    "sc=StandardScaler()\n",
    "x_scaled=sc.fit_transform(X)\n",
    "y_scaled=np.ravel(sc.fit_transform(Y.reshape(-1,1)))\n",
    "from sklearn.svm import SVR\n",
    "svr=SVR(kernel='rbf')\n",
    "svr.fit(x_scaled,y_scaled)"
   ]
  },
  {
   "cell_type": "markdown",
   "id": "e0b802de",
   "metadata": {},
   "source": [
    "### Algoritmaların R^2 Değerleri"
   ]
  },
  {
   "cell_type": "code",
   "execution_count": 8,
   "id": "f8b111db",
   "metadata": {},
   "outputs": [
    {
     "data": {
      "image/png": "[encoded data removed]",
      "text/plain": [
       "<Figure size 432x288 with 1 Axes>"
      ]
     },
     "metadata": {
      "needs_background": "light"
     },
     "output_type": "display_data"
    },
    {
     "name": "stdout",
     "output_type": "stream",
     "text": [
      "Random Forest Regression R^2:  0.9704434230386582\n"
     ]
    }
   ],
   "source": [
    "plt.scatter(X,Y,color='red')\n",
    "plt.plot(x,rfr.predict(X),color='blue')\n",
    "plt.show()\n",
    "from sklearn.metrics import r2_score\n",
    "print('Random Forest Regression R^2: ',r2_score(Y,rfr.predict(X)))"
   ]
  },
  {
   "cell_type": "code",
   "execution_count": 9,
   "id": "f03d3763",
   "metadata": {},
   "outputs": [
    {
     "data": {
      "image/png": "[encoded data removed]",
      "text/plain": [
       "<Figure size 432x288 with 1 Axes>"
      ]
     },
     "metadata": {
      "needs_background": "light"
     },
     "output_type": "display_data"
    },
    {
     "name": "stdout",
     "output_type": "stream",
     "text": [
      "Decision Tree Regression R^2:  1.0\n"
     ]
    }
   ],
   "source": [
    "plt.scatter(X,Y,color='red')\n",
    "plt.plot(x,dtr.predict(X),color='blue')\n",
    "plt.show()\n",
    "from sklearn.metrics import r2_score\n",
    "print('Decision Tree Regression R^2: ',r2_score(Y,dtr.predict(X)))"
   ]
  },
  {
   "cell_type": "code",
   "execution_count": 14,
   "id": "1a87cb43",
   "metadata": {},
   "outputs": [
    {
     "data": {
      "image/png": "[encoded data removed]",
      "text/plain": [
       "<Figure size 432x288 with 1 Axes>"
      ]
     },
     "metadata": {
      "needs_background": "light"
     },
     "output_type": "display_data"
    },
    {
     "name": "stdout",
     "output_type": "stream",
     "text": [
      "Linear Regression R^2:  0.6690412331929894\n"
     ]
    },
    {
     "data": {
      "text/plain": [
       "array([[ 1],\n",
       "       [ 2],\n",
       "       [ 3],\n",
       "       [ 4],\n",
       "       [ 5],\n",
       "       [ 6],\n",
       "       [ 7],\n",
       "       [ 8],\n",
       "       [ 9],\n",
       "       [10]], dtype=int64)"
      ]
     },
     "execution_count": 14,
     "metadata": {},
     "output_type": "execute_result"
    }
   ],
   "source": [
    "plt.scatter(X,Y,color='red')\n",
    "plt.plot(x,lr.predict(X),color='blue')\n",
    "plt.show()\n",
    "from sklearn.metrics import r2_score\n",
    "print('Linear Regression R^2: ',r2_score(Y,lr.predict(X)))"
   ]
  },
  {
   "cell_type": "code",
   "execution_count": 11,
   "id": "f6ccec2a",
   "metadata": {},
   "outputs": [
    {
     "data": {
      "image/png": "[encoded data removed]",
      "text/plain": [
       "<Figure size 432x288 with 1 Axes>"
      ]
     },
     "metadata": {
      "needs_background": "light"
     },
     "output_type": "display_data"
    },
    {
     "name": "stdout",
     "output_type": "stream",
     "text": [
      "4.dereceden Polynomial Regression  R^2:  0.9973922891706615\n"
     ]
    }
   ],
   "source": [
    "plt.scatter(X,y,color='red')\n",
    "plt.plot(X,lr3.predict(x_pr2),color='blue')\n",
    "plt.show()\n",
    "print('4.dereceden Polynomial Regression  R^2: ',r2_score(Y,lr3.predict(x_pr2)))"
   ]
  },
  {
   "cell_type": "code",
   "execution_count": 12,
   "id": "9595ea59",
   "metadata": {},
   "outputs": [
    {
     "data": {
      "image/png": "[encoded data removed]",
      "text/plain": [
       "<Figure size 432x288 with 1 Axes>"
      ]
     },
     "metadata": {
      "needs_background": "light"
     },
     "output_type": "display_data"
    },
    {
     "name": "stdout",
     "output_type": "stream",
     "text": [
      "SVR(rbf) R^2:  0.7513836788854973\n"
     ]
    }
   ],
   "source": [
    "plt.scatter(x_scaled,y_scaled,color='red')\n",
    "plt.plot(x_scaled,svr.predict(x_scaled),color='blue')\n",
    "plt.show()\n",
    "print('SVR(rbf) R^2: ',r2_score(y_scaled,svr.predict(x_scaled)))"
   ]
  }
 ],
 "metadata": {
  "kernelspec": {
   "display_name": "Python 3",
   "language": "python",
   "name": "python3"
  },
  "language_info": {
   "codemirror_mode": {
    "name": "ipython",
    "version": 3
   },
   "file_extension": ".py",
   "mimetype": "text/x-python",
   "name": "python",
   "nbconvert_exporter": "python",
   "pygments_lexer": "ipython3",
   "version": "3.8.8"
  }
 },
 "nbformat": 4,
 "nbformat_minor": 5
}
